{
 "cells": [
  {
   "cell_type": "code",
   "execution_count": 4,
   "id": "9c9d1d2c",
   "metadata": {},
   "outputs": [],
   "source": [
    "import qiskit.quantum_info as qi\n",
    "from qiskit.circuit.library import FourierChecking\n",
    "from qiskit.visualization import plot_histogram"
   ]
  },
  {
   "cell_type": "code",
   "execution_count": 7,
   "id": "bd91a9c6",
   "metadata": {},
   "outputs": [],
   "source": [
    "f = [1,-1,-1,-1,]\n",
    "g = [1,1,-1,-1]"
   ]
  },
  {
   "cell_type": "code",
   "execution_count": 8,
   "id": "efff5350",
   "metadata": {},
   "outputs": [
    {
     "data": {
      "text/html": [
       "<pre style=\"word-wrap: normal;white-space: pre;background: #fff0;line-height: 1.1;font-family: &quot;Courier New&quot;,Courier,monospace\">     ┌──────────────────────────────────────┐\n",
       "q_0: ┤0                                     ├\n",
       "     │  fc: [1, -1, -1, -1], [1, 1, -1, -1] │\n",
       "q_1: ┤1                                     ├\n",
       "     └──────────────────────────────────────┘</pre>"
      ],
      "text/plain": [
       "     ┌──────────────────────────────────────┐\n",
       "q_0: ┤0                                     ├\n",
       "     │  fc: [1, -1, -1, -1], [1, 1, -1, -1] │\n",
       "q_1: ┤1                                     ├\n",
       "     └──────────────────────────────────────┘"
      ]
     },
     "execution_count": 8,
     "metadata": {},
     "output_type": "execute_result"
    }
   ],
   "source": [
    "circ = FourierChecking(f=f,g=g)\n",
    "circ.draw()"
   ]
  },
  {
   "cell_type": "code",
   "execution_count": 9,
   "id": "4ebe7460",
   "metadata": {},
   "outputs": [
    {
     "data": {
      "image/png": "[encoded data removed]",
      "text/plain": [
       "<Figure size 504x360 with 1 Axes>"
      ]
     },
     "execution_count": 9,
     "metadata": {},
     "output_type": "execute_result"
    }
   ],
   "source": [
    "zero = qi.Statevector.from_label('00')\n",
    "sv = zero.evolve(circ)\n",
    "probs = sv.probabilities_dict()\n",
    "plot_histogram(probs)"
   ]
  },
  {
   "cell_type": "code",
   "execution_count": null,
   "id": "ebfe29d8",
   "metadata": {},
   "outputs": [],
   "source": []
  }
 ],
 "metadata": {
  "kernelspec": {
   "display_name": "Python 3 (ipykernel)",
   "language": "python",
   "name": "python3"
  },
  "language_info": {
   "codemirror_mode": {
    "name": "ipython",
    "version": 3
   },
   "file_extension": ".py",
   "mimetype": "text/x-python",
   "name": "python",
   "nbconvert_exporter": "python",
   "pygments_lexer": "ipython3",
   "version": "3.10.4"
  }
 },
 "nbformat": 4,
 "nbformat_minor": 5
}
